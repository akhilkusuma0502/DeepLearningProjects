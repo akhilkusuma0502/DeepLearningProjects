{
  "nbformat": 4,
  "nbformat_minor": 0,
  "metadata": {
    "colab": {
      "name": "Fashion_MNIST_Image_Classification.ipynb",
      "provenance": [],
      "authorship_tag": "ABX9TyNdosS3kdyBPyU63lfrAqKo",
      "include_colab_link": true
    },
    "kernelspec": {
      "name": "python3",
      "display_name": "Python 3"
    }
  },
  "cells": [
    {
      "cell_type": "markdown",
      "metadata": {
        "id": "view-in-github",
        "colab_type": "text"
      },
      "source": [
        "<a href=\"https://colab.research.google.com/github/akhilkusuma0502/DeepLearningProjects/blob/master/Fashion_MNIST_Image_Classification.ipynb\" target=\"_parent\"><img src=\"https://colab.research.google.com/assets/colab-badge.svg\" alt=\"Open In Colab\"/></a>"
      ]
    },
    {
      "cell_type": "markdown",
      "metadata": {
        "id": "PwhrNq5jk65b",
        "colab_type": "text"
      },
      "source": [
        "**Computer Vision using Tensorflow demo**: Image Classification"
      ]
    },
    {
      "cell_type": "code",
      "metadata": {
        "id": "4zkpw__jhIgN",
        "colab_type": "code",
        "colab": {}
      },
      "source": [
        "import tensorflow as tf\n",
        "import numpy as np\n",
        "from tensorflow import keras"
      ],
      "execution_count": 42,
      "outputs": []
    },
    {
      "cell_type": "code",
      "metadata": {
        "id": "lwjIWXlVNoac",
        "colab_type": "code",
        "colab": {}
      },
      "source": [
        "class myCallback(tf.keras.callbacks.Callback):\n",
        "  def on_epoch_end(self,epoch,logs={}):\n",
        "    if(logs.get('accuracy')>0.99):\n",
        "      print(\"\\nReached 99% Accuracy, Thus Cancelling Training!!!\")\n",
        "      self.model.stop_training=True"
      ],
      "execution_count": 51,
      "outputs": []
    },
    {
      "cell_type": "markdown",
      "metadata": {
        "id": "ZRkHg30JlKXu",
        "colab_type": "text"
      },
      "source": [
        "import necessary libraries required.\n",
        "We need **tensorflow** library and **Keras** API in order to perform any deep learning neural nets.\n",
        "we also array since we are dealing with matrices, we need **numpy** array . so import **numpy** as well"
      ]
    },
    {
      "cell_type": "code",
      "metadata": {
        "id": "IxSBKCQohcKK",
        "colab_type": "code",
        "colab": {}
      },
      "source": [
        "MNISt=keras.datasets.fashion_mnist"
      ],
      "execution_count": 43,
      "outputs": []
    },
    {
      "cell_type": "markdown",
      "metadata": {
        "id": "AjDw4xGzliPu",
        "colab_type": "text"
      },
      "source": [
        "MNIST is the dataset offered by Keras to perform basic image classification. It involves fashion clothing items"
      ]
    },
    {
      "cell_type": "markdown",
      "metadata": {
        "id": "CF2fJtpNlyBP",
        "colab_type": "text"
      },
      "source": [
        "**The next we need to do is Features Extraction**"
      ]
    },
    {
      "cell_type": "code",
      "metadata": {
        "id": "p727K5U1hjDE",
        "colab_type": "code",
        "colab": {}
      },
      "source": [
        "(training_images , training_labels),(test_images,test_labels)=MNISt.load_data()"
      ],
      "execution_count": 45,
      "outputs": []
    },
    {
      "cell_type": "markdown",
      "metadata": {
        "id": "tOczV3QCl5ju",
        "colab_type": "text"
      },
      "source": [
        "In the above code, i have used to sets where one set will capture training features and training labels and another set will capture test features and test labels.\n",
        "load_Data() returns multiple parameters."
      ]
    },
    {
      "cell_type": "markdown",
      "metadata": {
        "id": "cR-o4qc8mQuf",
        "colab_type": "text"
      },
      "source": [
        "# **Lets Visualize one of the item from Training Images and see how it looks like**"
      ]
    },
    {
      "cell_type": "code",
      "metadata": {
        "id": "IaeUb1RahpLf",
        "colab_type": "code",
        "colab": {
          "base_uri": "https://localhost:8080/",
          "height": 282
        },
        "outputId": "7f226cc2-d6c0-4f93-9709-79ea341baec5"
      },
      "source": [
        "import matplotlib.pyplot as plt\n",
        "plt.imshow(training_images[0])\n",
        "print(training_labels[0])"
      ],
      "execution_count": 46,
      "outputs": [
        {
          "output_type": "stream",
          "text": [
            "9\n"
          ],
          "name": "stdout"
        },
        {
          "output_type": "display_data",
          "data": {
            "image/png": "[encoded data removed]",
            "text/plain": [
              "<Figure size 432x288 with 1 Axes>"
            ]
          },
          "metadata": {
            "tags": [],
            "needs_background": "light"
          }
        }
      ]
    },
    {
      "cell_type": "markdown",
      "metadata": {
        "id": "luuXPyItm21G",
        "colab_type": "text"
      },
      "source": [
        "The above image is 25*25 pixel image."
      ]
    },
    {
      "cell_type": "markdown",
      "metadata": {
        "id": "FoWxbw4-nXSH",
        "colab_type": "text"
      },
      "source": [
        "**It is better to Normalize the data. Neural Networks best if the values are between 0 and 1**\n",
        "\n",
        "Since we are dealing with images , we need to understand that its pixel values ranges from 0 to 255 and hence divide the matrix/array by 255."
      ]
    },
    {
      "cell_type": "code",
      "metadata": {
        "id": "EkRyOHseiBP_",
        "colab_type": "code",
        "colab": {}
      },
      "source": [
        "training_images=training_images/255.0\n",
        "test_images=test_images/255.0"
      ],
      "execution_count": 47,
      "outputs": []
    },
    {
      "cell_type": "markdown",
      "metadata": {
        "id": "Or6jpBw4nsCo",
        "colab_type": "text"
      },
      "source": [
        "**Add layers**"
      ]
    },
    {
      "cell_type": "code",
      "metadata": {
        "id": "pmqVrsxviXo0",
        "colab_type": "code",
        "colab": {}
      },
      "source": [
        "model=tf.keras.models.Sequential([tf.keras.layers.Flatten(),\n",
        "                                  tf.keras.layers.Dense(128, activation=tf.nn.relu),\n",
        "                                  tf.keras.layers.Dense(10,activation=tf.nn.softmax)])"
      ],
      "execution_count": 48,
      "outputs": []
    },
    {
      "cell_type": "code",
      "metadata": {
        "id": "DP1uo-OiHtEE",
        "colab_type": "code",
        "colab": {}
      },
      "source": [
        "callbacks=myCallback()"
      ],
      "execution_count": 52,
      "outputs": []
    },
    {
      "cell_type": "markdown",
      "metadata": {
        "id": "tCDZguDXo4ZP",
        "colab_type": "text"
      },
      "source": [
        "**Flatten**: The input shape is 28*28 , so flatten job is to take the rectangular input and flatten it to one-dimensional array and pass it to other layers.\n",
        "\n",
        "**Dense**: Since input is Densely connected to 128 neurons. 128 is arbitary. You can try different numbers as well. Use Relu Activation since it outputs 0 or 1.\n",
        "\n",
        "**Dense**: Output layer. Since we have 10 different categories in the training data. If so check the unique values of taining_labels.\n",
        "\n",
        "**Softmax**: Commonly seen on final layers if there are multiple categories to output. The idea is simple , the output of the neuron is a probability value ans softmax helps us to set highest value to 1 and other to 0. "
      ]
    },
    {
      "cell_type": "code",
      "metadata": {
        "id": "W1IVP5LUi3l6",
        "colab_type": "code",
        "colab": {
          "base_uri": "https://localhost:8080/",
          "height": 224
        },
        "outputId": "0778c6c1-36bf-4f05-db3d-281cf85d6c21"
      },
      "source": [
        "model.compile(optimizer=tf.keras.optimizers.Adam(),\n",
        "              loss=tf.keras.losses.sparse_categorical_crossentropy,\n",
        "              metrics=['accuracy'])\n",
        "model.fit(training_images,training_labels,epochs=5,callbacks=[callbacks])"
      ],
      "execution_count": 53,
      "outputs": [
        {
          "output_type": "stream",
          "text": [
            "Epoch 1/5\n",
            "1875/1875 [==============================] - 3s 2ms/step - loss: 0.2806 - accuracy: 0.8975\n",
            "Epoch 2/5\n",
            "1875/1875 [==============================] - 3s 2ms/step - loss: 0.2666 - accuracy: 0.9014\n",
            "Epoch 3/5\n",
            "1875/1875 [==============================] - 3s 2ms/step - loss: 0.2567 - accuracy: 0.9044\n",
            "Epoch 4/5\n",
            "1875/1875 [==============================] - 3s 2ms/step - loss: 0.2477 - accuracy: 0.9073\n",
            "Epoch 5/5\n",
            "1875/1875 [==============================] - 3s 2ms/step - loss: 0.2376 - accuracy: 0.9112\n"
          ],
          "name": "stdout"
        },
        {
          "output_type": "execute_result",
          "data": {
            "text/plain": [
              "<tensorflow.python.keras.callbacks.History at 0x7f2f6ed790b8>"
            ]
          },
          "metadata": {
            "tags": []
          },
          "execution_count": 53
        }
      ]
    },
    {
      "cell_type": "markdown",
      "metadata": {
        "id": "OUxtR66wqnlh",
        "colab_type": "text"
      },
      "source": [
        "**Compile the model**\n",
        "\n",
        "While compiling the model , Three things to keep in mind.\n",
        "**Optimizer**: There are different optimizers but the idea is to reduce the loss which is called Gradient Descent. The Goal of Gradient Descent is to find weights and bias that minimizes the J(w,b) i,e.., Cost Function.\n",
        "\n",
        "**loss**: Choose sparse_categorical_crossentropy since we have categorical outputs.\n",
        "\n",
        "**metrics**: What metrics do you want to cover. In here, we are covering accuracy.\n"
      ]
    },
    {
      "cell_type": "markdown",
      "metadata": {
        "id": "AdqnV4OKsSpQ",
        "colab_type": "text"
      },
      "source": [
        "# Fit the model after that using training images, training labels and number of epochs."
      ]
    },
    {
      "cell_type": "code",
      "metadata": {
        "id": "58PmPVPUjQIY",
        "colab_type": "code",
        "colab": {
          "base_uri": "https://localhost:8080/",
          "height": 71
        },
        "outputId": "1cf1c3aa-fa2f-4db4-8161-f7459e19aa37"
      },
      "source": [
        "model.evaluate(test_images,test_labels)"
      ],
      "execution_count": 31,
      "outputs": [
        {
          "output_type": "stream",
          "text": [
            "313/313 [==============================] - 0s 1ms/step - loss: 0.3475 - accuracy: 0.8757\n"
          ],
          "name": "stdout"
        },
        {
          "output_type": "execute_result",
          "data": {
            "text/plain": [
              "[0.3474550247192383, 0.8756999969482422]"
            ]
          },
          "metadata": {
            "tags": []
          },
          "execution_count": 31
        }
      ]
    },
    {
      "cell_type": "markdown",
      "metadata": {
        "id": "SirEVkRpsHQK",
        "colab_type": "text"
      },
      "source": [
        "Evaluate the model using test images."
      ]
    },
    {
      "cell_type": "markdown",
      "metadata": {
        "id": "_4AsLoMLskWQ",
        "colab_type": "text"
      },
      "source": [
        "Close to 98% Which is Great and our model with Traing also got 98% . Our neural network is working fine."
      ]
    },
    {
      "cell_type": "markdown",
      "metadata": {
        "id": "o5Paq7qZszEf",
        "colab_type": "text"
      },
      "source": [
        "Lets see single picture from test data and see what it predicts."
      ]
    },
    {
      "cell_type": "code",
      "metadata": {
        "id": "xC3gqwHwsyiA",
        "colab_type": "code",
        "colab": {
          "base_uri": "https://localhost:8080/",
          "height": 282
        },
        "outputId": "dcd076bf-ec14-4f61-e90d-5de515e9c619"
      },
      "source": [
        "plt.imshow(test_images[9])"
      ],
      "execution_count": 34,
      "outputs": [
        {
          "output_type": "execute_result",
          "data": {
            "text/plain": [
              "<matplotlib.image.AxesImage at 0x7f2f70896e10>"
            ]
          },
          "metadata": {
            "tags": []
          },
          "execution_count": 34
        },
        {
          "output_type": "display_data",
          "data": {
            "image/png": "[encoded data removed]",
            "text/plain": [
              "<Figure size 432x288 with 1 Axes>"
            ]
          },
          "metadata": {
            "tags": [],
            "needs_background": "light"
          }
        }
      ]
    },
    {
      "cell_type": "code",
      "metadata": {
        "id": "egSsrZn9ulXJ",
        "colab_type": "code",
        "colab": {}
      },
      "source": [
        "predictions=model.predict(test_images)"
      ],
      "execution_count": 38,
      "outputs": []
    },
    {
      "cell_type": "code",
      "metadata": {
        "id": "fwI5u1x2wfN3",
        "colab_type": "code",
        "colab": {
          "base_uri": "https://localhost:8080/",
          "height": 34
        },
        "outputId": "9705ece0-4d85-45ad-b81b-80d1a8642f26"
      },
      "source": [
        "np.argmax(predictions[9])"
      ],
      "execution_count": 41,
      "outputs": [
        {
          "output_type": "execute_result",
          "data": {
            "text/plain": [
              "7"
            ]
          },
          "metadata": {
            "tags": []
          },
          "execution_count": 41
        }
      ]
    },
    {
      "cell_type": "markdown",
      "metadata": {
        "id": "0NRG9l5iwxsV",
        "colab_type": "text"
      },
      "source": [
        "\n",
        "0\tT-shirt/top\n",
        "\n",
        "1\tTrouser\n",
        "\n",
        "2\tPullover\n",
        "\n",
        "3\tDress\n",
        "\n",
        "4\tCoat\n",
        "\n",
        "5\tSandal\n",
        "\n",
        "6\tShirt\n",
        "\n",
        "7\tSneaker\n",
        "\n",
        "8\tBag\n",
        "\n",
        "9\tAnkle boot"
      ]
    }
  ]
}